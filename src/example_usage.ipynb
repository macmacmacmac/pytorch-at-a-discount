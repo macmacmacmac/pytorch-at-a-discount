{
 "cells": [
  {
   "cell_type": "code",
   "execution_count": 1,
   "metadata": {},
   "outputs": [],
   "source": [
    "import functions as f\n",
    "import utils as u\n",
    "import numpy as np\n",
    "\n",
    "# Define our dataset shape\n",
    "num_features = 12\n",
    "num_examples = 100\n",
    "out_shape = 2\n",
    "\n",
    "\n",
    "# Initialize dataset\n",
    "X = np.array(np.random.normal(0,1,size=(num_features,num_examples)))\n",
    "true_W = np.random.normal(1,0.5,size=(out_shape,num_features))\n",
    "Y = np.matmul(true_W,X)"
   ]
  },
  {
   "cell_type": "code",
   "execution_count": 2,
   "metadata": {},
   "outputs": [],
   "source": [
    "# Example of how to define a network\n",
    "\n",
    "learner_network = [\n",
    "    {'input' : X,\n",
    "     'gradient':True,\n",
    "     'output':True},\n",
    "\n",
    "    {'weight' : u.init_weights(num_features, 24, option='kaiming_uniform'),\n",
    "     'gradient':True,\n",
    "     'output':True},\n",
    "\n",
    "     {'activation' : f.relu,\n",
    "      'gradient':True,\n",
    "      'output':True},\n",
    "\n",
    "    {'weight' : u.init_weights(24, 4, option='kaiming_uniform'),\n",
    "     'gradient':True,\n",
    "     'output':True},\n",
    "\n",
    "     {'activation' : f.relu,\n",
    "      'gradient':True,\n",
    "      'output':True},\n",
    "\n",
    "    {'weight' : u.init_weights(4, out_shape, option='kaiming_uniform'),\n",
    "     'gradient':True,\n",
    "     'output':True},\n",
    "\n",
    "    {'loss' : f.MSE,\n",
    "     'Y': Y,\n",
    "     'gradient':True,\n",
    "     'output':True}\n",
    "]"
   ]
  },
  {
   "cell_type": "code",
   "execution_count": 3,
   "metadata": {},
   "outputs": [
    {
     "name": "stdout",
     "output_type": "stream",
     "text": [
      "This is our loss BEFORE trainning: 35.700612580956815\n"
     ]
    }
   ],
   "source": [
    "# Example forward pass\n",
    "\n",
    "u.forward_network(learner_network, X)\n",
    "loss = learner_network[-1]['output']\n",
    "print(f'This is our loss BEFORE trainning: {loss}')"
   ]
  },
  {
   "cell_type": "code",
   "execution_count": 4,
   "metadata": {},
   "outputs": [
    {
     "name": "stderr",
     "output_type": "stream",
     "text": [
      "  0%|                                                                                         | 0/5000 [00:00<?, ?it/s]"
     ]
    },
    {
     "name": "stderr",
     "output_type": "stream",
     "text": [
      "100%|████████████████████████████████████████████████████████████████████████████| 5000/5000 [00:01<00:00, 3493.96it/s]"
     ]
    },
    {
     "name": "stdout",
     "output_type": "stream",
     "text": [
      "\n",
      "This is our loss AFTER trainning: 17.148695965671095\n"
     ]
    },
    {
     "name": "stderr",
     "output_type": "stream",
     "text": [
      "\n"
     ]
    }
   ],
   "source": [
    "# Training example\n",
    "\n",
    "EPOCHS = 5000\n",
    "LR = 0.001\n",
    "\n",
    "from tqdm import tqdm\n",
    "for epoch in tqdm(range(EPOCHS)):\n",
    "  u.forward_network(learner_network, X)\n",
    "\n",
    "  out = learner_network[-2]['output'].T\n",
    "  loss = learner_network[-1]['output']\n",
    "\n",
    "  u.back_propagate(learner_network, lr=LR)\n",
    "\n",
    "loss = learner_network[-1]['output']\n",
    "out = learner_network[-2]['output'].T\n",
    "\n",
    "print(f'\\nThis is our loss AFTER trainning: {loss}')"
   ]
  }
 ],
 "metadata": {
  "kernelspec": {
   "display_name": "Python 3 (ipykernel)",
   "language": "python",
   "name": "python3"
  },
  "language_info": {
   "codemirror_mode": {
    "name": "ipython",
    "version": 3
   },
   "file_extension": ".py",
   "mimetype": "text/x-python",
   "name": "python",
   "nbconvert_exporter": "python",
   "pygments_lexer": "ipython3",
   "version": "3.9.12"
  }
 },
 "nbformat": 4,
 "nbformat_minor": 2
}
